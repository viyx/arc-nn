{
 "metadata": {
  "language_info": {
   "codemirror_mode": {
    "name": "ipython",
    "version": 3
   },
   "file_extension": ".py",
   "mimetype": "text/x-python",
   "name": "python",
   "nbconvert_exporter": "python",
   "pygments_lexer": "ipython3",
   "version": "3.7.8-final"
  },
  "orig_nbformat": 2,
  "kernelspec": {
   "name": "python3",
   "display_name": "Python 3"
  }
 },
 "nbformat": 4,
 "nbformat_minor": 2,
 "cells": [
  {
   "cell_type": "code",
   "execution_count": 1,
   "metadata": {},
   "outputs": [
    {
     "output_type": "stream",
     "name": "stderr",
     "text": [
      "11/13/2020 12:02:48 - INFO - download -   skip download: file `./data/datasets/median/train.pickle` exists\n",
      "11/13/2020 12:02:48 - INFO - download -   skip download: file `./data/datasets/median/test.pickle` exists\n",
      "11/13/2020 12:02:48 - INFO - download -   skip download: file `./data/datasets/median/val.pickle` exists\n"
     ]
    }
   ],
   "source": [
    "import logging\n",
    "logging.basicConfig(\n",
    "        format=\"%(asctime)s - %(levelname)s - %(name)s -   %(message)s\",\n",
    "        datefmt=\"%m/%d/%Y %H:%M:%S\",\n",
    "        level=logging.INFO,\n",
    ")\n",
    "\n",
    "from datasets import LightARCDataset, LightWeightColorPermutation, MedianDataset\n",
    "md = MedianDataset(download=True)"
   ]
  },
  {
   "cell_type": "code",
   "execution_count": 2,
   "metadata": {},
   "outputs": [],
   "source": [
    "train, test, val = md.datasets"
   ]
  },
  {
   "cell_type": "code",
   "execution_count": 8,
   "metadata": {},
   "outputs": [
    {
     "output_type": "execute_result",
     "data": {
      "text/plain": [
       "ARC folder distribution: all = 366, train = 273, eval = 93, test = 0. Transformed : 1956885"
      ]
     },
     "metadata": {},
     "execution_count": 8
    }
   ],
   "source": [
    "train"
   ]
  },
  {
   "cell_type": "code",
   "execution_count": 4,
   "metadata": {},
   "outputs": [
    {
     "output_type": "execute_result",
     "data": {
      "text/plain": [
       "array([ -5040,  -5040,  -5040,    -90,  -5040,  -5040,   -720, -10000,\n",
       "       -10000, -10000,    -10,   -720, -10000,    -10,    -10, -10000,\n",
       "         -720, -10000,     -1, -10000, -10000,  -5040, -10000,   -720,\n",
       "       -10000,   -720, -10000,  -5040, -10000,    -10,    -90,  -5040,\n",
       "       -10000, -10000, -10000, -10000,     -1,   -720, -10000,     -1,\n",
       "       -10000,   -720,    -10,    -10, -10000,    -90, -10000,  -5040,\n",
       "       -10000, -10000,    -90,    -10,  -5040,    -90,    -10, -10000,\n",
       "       -10000,  -5040, -10000, -10000, -10000,   -720, -10000, -10000,\n",
       "       -10000,   -720,    -90,    -90,   -720, -10000,  -5040,     -1,\n",
       "       -10000, -10000,     -1,    -90,  -5040,    -90, -10000,  -5040,\n",
       "         -720,  -5040, -10000, -10000, -10000, -10000,     -1,     -1,\n",
       "           -1,  -5040, -10000,    -90,    -10,    -10,     -1, -10000,\n",
       "        -5040, -10000, -10000, -10000, -10000,    -10, -10000, -10000,\n",
       "         -720, -10000,  -5040,  -5040,    -90, -10000, -10000, -10000,\n",
       "         -720,   -720,    -90, -10000, -10000, -10000,    -90,    -90,\n",
       "       -10000,     -1,    -90, -10000, -10000, -10000, -10000,    -10,\n",
       "       -10000,   -720,     -1,  -5040,     -1,    -90, -10000,   -720,\n",
       "       -10000,    -90, -10000,    -90, -10000,  -5040,    -10, -10000,\n",
       "       -10000,     -1, -10000,    -90, -10000, -10000,   -720, -10000,\n",
       "       -10000, -10000,  -5040, -10000,  -5040, -10000,    -90, -10000,\n",
       "        -5040,    -10, -10000,    -10,  -5040,   -720,  -5040, -10000,\n",
       "       -10000, -10000, -10000,    -10, -10000,    -90, -10000,    -10,\n",
       "        -5040, -10000,    -90, -10000,   -720,    -10, -10000, -10000,\n",
       "         -720,     -1, -10000, -10000, -10000,   -720, -10000,  -5040,\n",
       "       -10000,   -720, -10000,   -720, -10000,  -5040,    -10,  -5040,\n",
       "       -10000, -10000,   -720,    -10, -10000, -10000,     -1,    -90,\n",
       "        -5040,    -90,  -5040,    -90, -10000,  -5040, -10000,  -5040,\n",
       "       -10000, -10000, -10000, -10000,    -10, -10000,     -1,  -5040,\n",
       "        -5040,    -10, -10000,   -720,  -5040,  -5040, -10000, -10000,\n",
       "       -10000,    -90,  -5040, -10000,     -1,   -720,    -10, -10000,\n",
       "         -720, -10000, -10000,     -1, -10000,   -720,   -720,   -720,\n",
       "           -1, -10000,   -720, -10000,   -720,    -10,  -5040, -10000,\n",
       "          -90, -10000,   -720, -10000, -10000, -10000, -10000,     -1,\n",
       "          -90, -10000,    -10,  -5040,   -720, -10000,    -10,    -10,\n",
       "        -5040, -10000, -10000,   -720,  -5040,    -10, -10000, -10000,\n",
       "       -10000, -10000, -10000, -10000, -10000,    -90,   -720,  -5040,\n",
       "       -10000, -10000,   -720,    -90,    -90,    -90, -10000,     -1,\n",
       "       -10000, -10000,    -10, -10000,    -90, -10000, -10000, -10000,\n",
       "           -1,    -90,   -720, -10000,    -10,    -10,   -720, -10000,\n",
       "          -90, -10000, -10000, -10000,    -90, -10000,  -5040,  -5040,\n",
       "        -5040,    -90,  -5040,   -720,     -1, -10000, -10000,    -10,\n",
       "         -720, -10000,     -1, -10000, -10000, -10000,    -90,  -5040,\n",
       "       -10000,  -5040, -10000,    -10, -10000,   -720,    -90,    -90,\n",
       "          -10, -10000, -10000, -10000,    -90, -10000,  -5040, -10000,\n",
       "        -5040,  -5040, -10000,  -5040,    -90,    -90,  -5040, -10000,\n",
       "          -90, -10000,  -5040,  -5040,  -5040,     -1])"
      ]
     },
     "metadata": {},
     "execution_count": 4
    }
   ],
   "source": [
    "train.breaks[:-1] - train.breaks[1:]"
   ]
  },
  {
   "cell_type": "code",
   "execution_count": 9,
   "metadata": {},
   "outputs": [
    {
     "output_type": "execute_result",
     "data": {
      "text/plain": [
       "'./data/training/8e5a5113.json'"
      ]
     },
     "metadata": {},
     "execution_count": 9
    }
   ],
   "source": [
    "train.tasks[18]"
   ]
  },
  {
   "cell_type": "code",
   "execution_count": null,
   "metadata": {},
   "outputs": [],
   "source": []
  }
 ]
}
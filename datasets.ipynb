{
 "metadata": {
  "language_info": {
   "codemirror_mode": {
    "name": "ipython",
    "version": 3
   },
   "file_extension": ".py",
   "mimetype": "text/x-python",
   "name": "python",
   "nbconvert_exporter": "python",
   "pygments_lexer": "ipython3",
   "version": "3.6.10-final"
  },
  "orig_nbformat": 2,
  "kernelspec": {
   "name": "python3",
   "display_name": "Python 3"
  }
 },
 "nbformat": 4,
 "nbformat_minor": 2,
 "cells": [
  {
   "cell_type": "code",
   "execution_count": 5,
   "metadata": {},
   "outputs": [
    {
     "output_type": "error",
     "ename": "ModuleNotFoundError",
     "evalue": "No module named 'torch'",
     "traceback": [
      "\u001b[0;31m---------------------------------------------------------------------------\u001b[0m",
      "\u001b[0;31mModuleNotFoundError\u001b[0m                       Traceback (most recent call last)",
      "\u001b[0;32m<ipython-input-5-1f69890ac37f>\u001b[0m in \u001b[0;36m<module>\u001b[0;34m\u001b[0m\n\u001b[1;32m      6\u001b[0m )\n\u001b[1;32m      7\u001b[0m \u001b[0;34m\u001b[0m\u001b[0m\n\u001b[0;32m----> 8\u001b[0;31m \u001b[0;32mfrom\u001b[0m \u001b[0mdatasets\u001b[0m \u001b[0;32mimport\u001b[0m \u001b[0mLightARCDataset\u001b[0m\u001b[0;34m,\u001b[0m \u001b[0mLightWeightColorPermutation\u001b[0m\u001b[0;34m,\u001b[0m \u001b[0mMaxNDataset\u001b[0m\u001b[0;34m\u001b[0m\u001b[0;34m\u001b[0m\u001b[0m\n\u001b[0m\u001b[1;32m      9\u001b[0m \u001b[0mmd\u001b[0m \u001b[0;34m=\u001b[0m \u001b[0mMaxNDataset\u001b[0m\u001b[0;34m(\u001b[0m\u001b[0mdownload\u001b[0m\u001b[0;34m=\u001b[0m\u001b[0;32mTrue\u001b[0m\u001b[0;34m)\u001b[0m\u001b[0;34m\u001b[0m\u001b[0;34m\u001b[0m\u001b[0m\n",
      "\u001b[0;32m~/projects/arc-nn/datasets.py\u001b[0m in \u001b[0;36m<module>\u001b[0;34m\u001b[0m\n\u001b[1;32m      3\u001b[0m \u001b[0;32mimport\u001b[0m \u001b[0mnumpy\u001b[0m \u001b[0;32mas\u001b[0m \u001b[0mnp\u001b[0m\u001b[0;34m\u001b[0m\u001b[0;34m\u001b[0m\u001b[0m\n\u001b[1;32m      4\u001b[0m \u001b[0;32mimport\u001b[0m \u001b[0mpandas\u001b[0m \u001b[0;32mas\u001b[0m \u001b[0mpd\u001b[0m\u001b[0;34m\u001b[0m\u001b[0;34m\u001b[0m\u001b[0m\n\u001b[0;32m----> 5\u001b[0;31m \u001b[0;32mfrom\u001b[0m \u001b[0mtorch\u001b[0m\u001b[0;34m.\u001b[0m\u001b[0mutils\u001b[0m\u001b[0;34m.\u001b[0m\u001b[0mdata\u001b[0m \u001b[0;32mimport\u001b[0m \u001b[0mDataset\u001b[0m\u001b[0;34m\u001b[0m\u001b[0;34m\u001b[0m\u001b[0m\n\u001b[0m\u001b[1;32m      6\u001b[0m \u001b[0;32mimport\u001b[0m \u001b[0mitertools\u001b[0m\u001b[0;34m\u001b[0m\u001b[0;34m\u001b[0m\u001b[0m\n\u001b[1;32m      7\u001b[0m \u001b[0;32mimport\u001b[0m \u001b[0mmath\u001b[0m\u001b[0;34m\u001b[0m\u001b[0;34m\u001b[0m\u001b[0m\n",
      "\u001b[0;31mModuleNotFoundError\u001b[0m: No module named 'torch'"
     ]
    }
   ],
   "source": [
    "import logging\n",
    "logging.basicConfig(\n",
    "        format=\"%(asctime)s - %(levelname)s - %(name)s -   %(message)s\",\n",
    "        datefmt=\"%m/%d/%Y %H:%M:%S\",\n",
    "        level=logging.INFO,\n",
    ")\n",
    "\n",
    "from datasets import LightARCDataset, LightWeightColorPermutation, MaxNDataset\n",
    "md = MaxNDataset(download=True)"
   ]
  },
  {
   "cell_type": "code",
   "execution_count": 3,
   "metadata": {},
   "outputs": [
    {
     "output_type": "stream",
     "name": "stdout",
     "text": [
      "Python 3.8.3\n"
     ]
    }
   ],
   "source": [
    "%%bash\n",
    "\n",
    "python -V\n",
    "# pip list"
   ]
  },
  {
   "cell_type": "code",
   "execution_count": 6,
   "metadata": {},
   "outputs": [
    {
     "output_type": "execute_result",
     "data": {
      "text/plain": [
       "sys.version_info(major=3, minor=8, micro=3, releaselevel='final', serial=0)"
      ]
     },
     "metadata": {},
     "execution_count": 6
    }
   ],
   "source": [
    "import sys\n",
    "sys.version_info"
   ]
  },
  {
   "cell_type": "code",
   "execution_count": 2,
   "metadata": {},
   "outputs": [],
   "source": [
    "train, test, val = md.datasets"
   ]
  },
  {
   "cell_type": "code",
   "execution_count": 8,
   "metadata": {},
   "outputs": [
    {
     "output_type": "execute_result",
     "data": {
      "text/plain": [
       "ARC folder distribution: all = 366, train = 273, eval = 93, test = 0. Transformed : 1956885"
      ]
     },
     "metadata": {},
     "execution_count": 8
    }
   ],
   "source": [
    "train"
   ]
  },
  {
   "cell_type": "code",
   "execution_count": 4,
   "metadata": {},
   "outputs": [
    {
     "output_type": "execute_result",
     "data": {
      "text/plain": [
       "array([ -5040,  -5040,  -5040,    -90,  -5040,  -5040,   -720, -10000,\n",
       "       -10000, -10000,    -10,   -720, -10000,    -10,    -10, -10000,\n",
       "         -720, -10000,     -1, -10000, -10000,  -5040, -10000,   -720,\n",
       "       -10000,   -720, -10000,  -5040, -10000,    -10,    -90,  -5040,\n",
       "       -10000, -10000, -10000, -10000,     -1,   -720, -10000,     -1,\n",
       "       -10000,   -720,    -10,    -10, -10000,    -90, -10000,  -5040,\n",
       "       -10000, -10000,    -90,    -10,  -5040,    -90,    -10, -10000,\n",
       "       -10000,  -5040, -10000, -10000, -10000,   -720, -10000, -10000,\n",
       "       -10000,   -720,    -90,    -90,   -720, -10000,  -5040,     -1,\n",
       "       -10000, -10000,     -1,    -90,  -5040,    -90, -10000,  -5040,\n",
       "         -720,  -5040, -10000, -10000, -10000, -10000,     -1,     -1,\n",
       "           -1,  -5040, -10000,    -90,    -10,    -10,     -1, -10000,\n",
       "        -5040, -10000, -10000, -10000, -10000,    -10, -10000, -10000,\n",
       "         -720, -10000,  -5040,  -5040,    -90, -10000, -10000, -10000,\n",
       "         -720,   -720,    -90, -10000, -10000, -10000,    -90,    -90,\n",
       "       -10000,     -1,    -90, -10000, -10000, -10000, -10000,    -10,\n",
       "       -10000,   -720,     -1,  -5040,     -1,    -90, -10000,   -720,\n",
       "       -10000,    -90, -10000,    -90, -10000,  -5040,    -10, -10000,\n",
       "       -10000,     -1, -10000,    -90, -10000, -10000,   -720, -10000,\n",
       "       -10000, -10000,  -5040, -10000,  -5040, -10000,    -90, -10000,\n",
       "        -5040,    -10, -10000,    -10,  -5040,   -720,  -5040, -10000,\n",
       "       -10000, -10000, -10000,    -10, -10000,    -90, -10000,    -10,\n",
       "        -5040, -10000,    -90, -10000,   -720,    -10, -10000, -10000,\n",
       "         -720,     -1, -10000, -10000, -10000,   -720, -10000,  -5040,\n",
       "       -10000,   -720, -10000,   -720, -10000,  -5040,    -10,  -5040,\n",
       "       -10000, -10000,   -720,    -10, -10000, -10000,     -1,    -90,\n",
       "        -5040,    -90,  -5040,    -90, -10000,  -5040, -10000,  -5040,\n",
       "       -10000, -10000, -10000, -10000,    -10, -10000,     -1,  -5040,\n",
       "        -5040,    -10, -10000,   -720,  -5040,  -5040, -10000, -10000,\n",
       "       -10000,    -90,  -5040, -10000,     -1,   -720,    -10, -10000,\n",
       "         -720, -10000, -10000,     -1, -10000,   -720,   -720,   -720,\n",
       "           -1, -10000,   -720, -10000,   -720,    -10,  -5040, -10000,\n",
       "          -90, -10000,   -720, -10000, -10000, -10000, -10000,     -1,\n",
       "          -90, -10000,    -10,  -5040,   -720, -10000,    -10,    -10,\n",
       "        -5040, -10000, -10000,   -720,  -5040,    -10, -10000, -10000,\n",
       "       -10000, -10000, -10000, -10000, -10000,    -90,   -720,  -5040,\n",
       "       -10000, -10000,   -720,    -90,    -90,    -90, -10000,     -1,\n",
       "       -10000, -10000,    -10, -10000,    -90, -10000, -10000, -10000,\n",
       "           -1,    -90,   -720, -10000,    -10,    -10,   -720, -10000,\n",
       "          -90, -10000, -10000, -10000,    -90, -10000,  -5040,  -5040,\n",
       "        -5040,    -90,  -5040,   -720,     -1, -10000, -10000,    -10,\n",
       "         -720, -10000,     -1, -10000, -10000, -10000,    -90,  -5040,\n",
       "       -10000,  -5040, -10000,    -10, -10000,   -720,    -90,    -90,\n",
       "          -10, -10000, -10000, -10000,    -90, -10000,  -5040, -10000,\n",
       "        -5040,  -5040, -10000,  -5040,    -90,    -90,  -5040, -10000,\n",
       "          -90, -10000,  -5040,  -5040,  -5040,     -1])"
      ]
     },
     "metadata": {},
     "execution_count": 4
    }
   ],
   "source": [
    "train.breaks[:-1] - train.breaks[1:]"
   ]
  },
  {
   "cell_type": "code",
   "execution_count": 9,
   "metadata": {},
   "outputs": [
    {
     "output_type": "execute_result",
     "data": {
      "text/plain": [
       "'./data/training/8e5a5113.json'"
      ]
     },
     "metadata": {},
     "execution_count": 9
    }
   ],
   "source": [
    "train.tasks[18]"
   ]
  },
  {
   "cell_type": "code",
   "execution_count": null,
   "metadata": {},
   "outputs": [],
   "source": []
  }
 ]
}